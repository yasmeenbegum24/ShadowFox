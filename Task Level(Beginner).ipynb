﻿{
 "cells": [
  {
   "cell_type": "markdown",
   "id": "b76e9ddd-a050-4f2d-8b4c-31bac1312b51",
   "metadata": {},
   "source": [
    "# **1. VARIABLES**"
   ]
  },
  {
   "cell_type": "markdown",
   "id": "cd8b7f24-38d0-4c86-86d0-31e69e164a19",
   "metadata": {},
   "source": [
    "**1.Create a variable named pi and store the value 22/7 in it. Now check the data type of this variable .**"
   ]
  },
  {
   "cell_type": "code",
   "execution_count": 1,
   "id": "215a64af-d3dc-40c0-8d25-a49585534cc3",
   "metadata": {},
   "outputs": [
    {
     "name": "stdout",
     "output_type": "stream",
     "text": [
      "<class 'float'>\n"
     ]
    }
   ],
   "source": [
    "pi = 22/7\n",
    "print(type(pi))"
   ]
  },
  {
   "cell_type": "markdown",
   "id": "41caa093-96b4-40b5-a098-2c07fb848e3b",
   "metadata": {},
   "source": [
    "**2.Create a variable called for and assign it a value 4. See what happens and find out the reason behind the behavior that you see.**"
   ]
  },
  {
   "cell_type": "code",
   "execution_count": 2,
   "id": "577ebfc8-a33d-47d7-9e53-5eedf840dccf",
   "metadata": {},
   "outputs": [
    {
     "ename": "SyntaxError",
     "evalue": "invalid syntax (2046953698.py, line 1)",
     "output_type": "error",
     "traceback": [
      "\u001b[1;36m  Cell \u001b[1;32mIn[2], line 1\u001b[1;36m\u001b[0m\n\u001b[1;33m    for = 4\u001b[0m\n\u001b[1;37m        ^\u001b[0m\n\u001b[1;31mSyntaxError\u001b[0m\u001b[1;31m:\u001b[0m invalid syntax\n"
     ]
    }
   ],
   "source": [
    "for = 4"
   ]
  },
  {
   "cell_type": "markdown",
   "id": "a9604b50-c0ec-43f2-b897-010279931762",
   "metadata": {},
   "source": [
    "It shows an error when we run it , because \"for\" is a keyword and keywords cannot be used as variable name.\r",
    "\r\n",
    "Rules to be followed while giving names to variables :\r\n",
    "\r\n",
    "a. Variable names must not start with digits(0-9) and special characters excluding underscore.\r\n",
    "\r\n",
    "b.Variable names should not be a keyword.\r\n",
    "\r\n",
    "c.Variable names are case sensitive."
   ]
  },
  {
   "cell_type": "markdown",
   "id": "e5d54b5c-eb98-430d-9581-f03fc15471e6",
   "metadata": {},
   "source": [
    "**3.Store the principal amount, rate of interest, and time in different variables and then calculate the Simple Interest for 3 years. Formula: Simple Interest = P x R x T / 100**"
   ]
  },
  {
   "cell_type": "code",
   "execution_count": 3,
   "id": "f3e68461-8f4a-4be9-959b-ac31cf8573d2",
   "metadata": {},
   "outputs": [
    {
     "name": "stdin",
     "output_type": "stream",
     "text": [
      "Principal Amount :  100\n",
      "Rate :  5.6\n"
     ]
    },
    {
     "name": "stdout",
     "output_type": "stream",
     "text": [
      "Simple Interest for  3  years is Rs. 16.8\n"
     ]
    }
   ],
   "source": [
    "principal = float(input(\"Principal Amount : \"))\n",
    "rate = float(input(\"Rate : \"))\n",
    "time = 3\n",
    "si = (principal*rate*time)/100\n",
    "print(\"Simple Interest for \",time,\" years is Rs.\",float(si))"
   ]
  },
  {
   "cell_type": "markdown",
   "id": "83a586b9-14fb-41c9-9acb-00e126988b78",
   "metadata": {},
   "source": [
    "# **2. NUMBERS**"
   ]
  },
  {
   "cell_type": "markdown",
   "id": "03d015d3-3005-4a56-b9e8-cc6bed3462c0",
   "metadata": {},
   "source": [
    "**1. Write a function that takes two arguments, 145 and 'o' , and uses the format function to return a formatted string. Print the result. Try to identify the representation used.**"
   ]
  },
  {
   "cell_type": "code",
   "execution_count": 4,
   "id": "eeca97cb-a282-4e49-bbd7-d603b8430a33",
   "metadata": {},
   "outputs": [
    {
     "name": "stdout",
     "output_type": "stream",
     "text": [
      "143o\n"
     ]
    }
   ],
   "source": [
    "def FormatString (num, char):\n",
    "  format_str = \"{:d}{:s}\".format(num,char)\n",
    "  return format_str\n",
    "\n",
    "result = FormatString(143,\"o\")\n",
    "print(result)"
   ]
  },
  {
   "cell_type": "markdown",
   "id": "27569a14-7d4b-4e2c-a868-65efde3545ac",
   "metadata": {},
   "source": [
    "The representation used here is \"d\" for integer and \"s\" for string."
   ]
  },
  {
   "cell_type": "markdown",
   "id": "b18c4191-4c2d-4cea-9c58-0caf90d9f611",
   "metadata": {},
   "source": [
    "**2. In a village, there is a circular pond with a radius of 84 meters. Calculate the area of the pond using the formula: Circle Area = π r^2. (Use the value 3.14 for π) Bonus Question: If there is exactly 1.4 liters of water in a square meter, what is the total amount of water in the pond? Print the answer without any decimal point in it. Hint: Circle Area = π r^2 Water in the pond = Pond Area Water per Square Meter**"
   ]
  },
  {
   "cell_type": "code",
   "execution_count": 5,
   "id": "31433012-3ef0-48c5-956e-959236d49886",
   "metadata": {},
   "outputs": [
    {
     "name": "stdout",
     "output_type": "stream",
     "text": [
      "Area of the Pond is : 22155.84 sq.m\n",
      "Total amount of water in the Pond is : 31018 Lts\n"
     ]
    }
   ],
   "source": [
    "radius = 84\n",
    "Pond_Area = 3.14 *(radius**2)\n",
    "water_sqmtr = 1.4\n",
    "total_amt = Pond_Area * water_sqmtr\n",
    "print(\"Area of the Pond is :\",Pond_Area,\"sq.m\")\n",
    "print(\"Total amount of water in the Pond is :\",int(total_amt),\"Lts\")"
   ]
  },
  {
   "cell_type": "markdown",
   "id": "d4bc3ec4-ab85-40c9-88b2-a61bea058d94",
   "metadata": {},
   "source": [
    "**3. If you cross a 490meterlong street in 7 minutes, calculate your speed in meters per second. Print the answer without any decimal point in it. Hint: Speed = Distance / Time**"
   ]
  },
  {
   "cell_type": "code",
   "execution_count": 7,
   "id": "f1be253f-fca4-418b-8a2d-e76375506104",
   "metadata": {},
   "outputs": [
    {
     "name": "stdin",
     "output_type": "stream",
     "text": [
      "Enter the distance in meters : 490\n"
     ]
    },
    {
     "name": "stdout",
     "output_type": "stream",
     "text": [
      "Enter the time as follows :\n"
     ]
    },
    {
     "name": "stdin",
     "output_type": "stream",
     "text": [
      "Hours :  0\n",
      "Minutes :  7\n",
      "Seconds :  0\n"
     ]
    },
    {
     "name": "stdout",
     "output_type": "stream",
     "text": [
      "Time in seconds :  420 s\n",
      "Spped in meters per second is  1  m/s\n"
     ]
    }
   ],
   "source": [
    "def time_in_seconds(hours , minutes , seconds):\n",
    "  convert_seconds = (hours*3600) + (minutes*60) + seconds\n",
    "  return convert_seconds\n",
    "\n",
    "distance = int(input(\"Enter the distance in meters :\"))\n",
    "print(\"Enter the time as follows :\")\n",
    "hours = int(input(\"Hours : \"))\n",
    "minutes = int(input(\"Minutes : \"))\n",
    "seconds = int(input(\"Seconds : \"))\n",
    "time = time_in_seconds(hours , minutes , seconds)\n",
    "print(\"Time in seconds : \",time,\"s\")\n",
    "speed = distance/time\n",
    "print(\"Spped in meters per second is \",int(speed),\" m/s\")"
   ]
  },
  {
   "cell_type": "markdown",
   "id": "6f9ca4c0-faf7-4259-9a54-c55caa2ecbf0",
   "metadata": {},
   "source": [
    "# **3. LIST**"
   ]
  },
  {
   "cell_type": "markdown",
   "id": "07376eb6-bd24-414e-a1e7-df226b8668fb",
   "metadata": {},
   "source": [
    "**1. You have a list of superheroes representing the Justice League. justice_league = [\"Superman\", \"Batman\" , \"Wonder Woman\" , \"Flash\" , \"Aquaman\" , \"Green Lantern\"] Perform the following tasks:**"
   ]
  },
  {
   "cell_type": "markdown",
   "id": "02ddf840-ac2d-4d89-9363-ed8d0f6feb7a",
   "metadata": {},
   "source": [
    "**1. Calculate the number of members in the Justice League.**"
   ]
  },
  {
   "cell_type": "code",
   "execution_count": 8,
   "id": "d68e6b6b-2f70-4db4-82a3-2419d75f6882",
   "metadata": {},
   "outputs": [
    {
     "name": "stdout",
     "output_type": "stream",
     "text": [
      "There are 6 members in the Justice League.\n"
     ]
    }
   ],
   "source": [
    "justice_league = [\"Superman\", \"Batman\" , \"Wonder Woman\" , \"Flash\" , \"Aquaman\" , \"Green Lantern\"]\n",
    "print(\"There are\",len(justice_league),\"members in the Justice League.\")"
   ]
  },
  {
   "cell_type": "markdown",
   "id": "8a32b513-2bfe-45d2-9ea5-e085bb58174f",
   "metadata": {},
   "source": [
    "**2. Batman recruited Batgirl and Nightwing as new members.\r\n",
    "Add them to your list**."
   ]
  },
  {
   "cell_type": "code",
   "execution_count": 9,
   "id": "6a0c7f44-56ce-4fb7-99bd-5a99be5cb199",
   "metadata": {},
   "outputs": [
    {
     "name": "stdout",
     "output_type": "stream",
     "text": [
      "Members of Justice League after adding two new members :\n",
      " ['Superman', 'Batman', 'Wonder Woman', 'Flash', 'Aquaman', 'Green Lantern', 'Batgirl', 'Nightwing']\n"
     ]
    }
   ],
   "source": [
    "justice_league.append(\"Batgirl\")\n",
    "justice_league.append(\"Nightwing\")\n",
    "print(\"Members of Justice League after adding two new members :\\n\",justice_league)"
   ]
  },
  {
   "cell_type": "markdown",
   "id": "d40bb345-1227-4004-b78a-732c5eced47c",
   "metadata": {},
   "source": [
    "**3. Wonder Woman is now the leader of the Justice League. Move her to the beginning of the list.**"
   ]
  },
  {
   "cell_type": "code",
   "execution_count": 10,
   "id": "2a6aef42-f02b-4f86-b04e-b4a14785aaf5",
   "metadata": {},
   "outputs": [
    {
     "name": "stdout",
     "output_type": "stream",
     "text": [
      "['Wonder Woman', 'Superman', 'Batman', 'Flash', 'Aquaman', 'Green Lantern', 'Batgirl', 'Nightwing']\n"
     ]
    }
   ],
   "source": [
    "wonderwoman_index = justice_league.index(\"Wonder Woman\")\n",
    "wonderwoman = justice_league.pop(wonderwoman_index)\n",
    "justice_league.insert(0, wonderwoman)\n",
    "print(justice_league)"
   ]
  },
  {
   "cell_type": "markdown",
   "id": "679b0775-069b-4404-ad3f-e92db0ba15c5",
   "metadata": {},
   "source": [
    "**4. Aquaman and Flash are having conflicts, and you need to separate them. Choose either \"Green Lantern\" or \"Superman\" and move them in between Aquaman and Flash.**"
   ]
  },
  {
   "cell_type": "code",
   "execution_count": 11,
   "id": "4c7fb859-6bef-4aae-82d4-98148c0634de",
   "metadata": {},
   "outputs": [
    {
     "name": "stdin",
     "output_type": "stream",
     "text": [
      "Choose either 'Green Lantern' or 'Superman':  Superman\n"
     ]
    },
    {
     "name": "stdout",
     "output_type": "stream",
     "text": [
      "Updated Justice League: ['Wonder Woman', 'Batman', 'Flash', 'Superman', 'Aquaman', 'Green Lantern', 'Batgirl', 'Nightwing']\n"
     ]
    }
   ],
   "source": [
    "chosenhero = input(\"Choose either 'Green Lantern' or 'Superman': \")\n",
    "if chosenhero in [\"Green Lantern\", \"Superman\"]:\n",
    "    justice_league.remove(chosenhero)\n",
    "    aquamanindex = justice_league.index(\"Aquaman\")\n",
    "    flashindex = justice_league.index(\"Flash\")\n",
    "    if aquamanindex < flashindex:\n",
    "        justice_league.insert(flashindex, chosenhero)\n",
    "    else:\n",
    "        justice_league.insert(aquamanindex, chosenhero)\n",
    "    print(\"Updated Justice League:\", justice_league)\n",
    "else:\n",
    "    print(\"Invalid choice. Please choose either 'Green Lantern' or 'Superman'.\")\n",
    "\n"
   ]
  },
  {
   "cell_type": "markdown",
   "id": "398315c8-96f1-47d1-a1dd-743880e26393",
   "metadata": {},
   "source": [
    "**5. The Justice League faced a crisis, and Superman decided to assemble a new team. Replace the existing list with the following new members: \"Cyborg\" , \"Shazam\" , \"Hawkgirl\" , \"Martian Manhunter\" , \"Green Arrow\".**"
   ]
  },
  {
   "cell_type": "code",
   "execution_count": 12,
   "id": "6290a59f-34b1-42db-8fce-86bfc5ddaf50",
   "metadata": {},
   "outputs": [
    {
     "name": "stdout",
     "output_type": "stream",
     "text": [
      "New Justice League team assembled by Superman: ['Superman', 'Cyborg', 'Shazam', 'Hawkgirl', 'Martian Manhunter', 'Green Arrow']\n"
     ]
    }
   ],
   "source": [
    "new_team = [\"Superman\", \"Cyborg\", \"Shazam\", \"Hawkgirl\", \"Martian Manhunter\", \"Green Arrow\"]\n",
    "justice_league = new_team\n",
    "print(\"New Justice League team assembled by Superman:\", justice_league)"
   ]
  },
  {
   "cell_type": "markdown",
   "id": "a38d3f2b-1be6-451c-b305-df984b681b08",
   "metadata": {},
   "source": [
    "**6. Sort the Justice League alphabetically. The hero at the 0th index will become the new leader.**"
   ]
  },
  {
   "cell_type": "code",
   "execution_count": 13,
   "id": "caa4892a-1bb6-470f-966c-a76d2b7b8797",
   "metadata": {},
   "outputs": [
    {
     "name": "stdout",
     "output_type": "stream",
     "text": [
      "Sorted Justice League  ['Cyborg', 'Green Arrow', 'Hawkgirl', 'Martian Manhunter', 'Shazam', 'Superman']\n",
      "New leader is : Cyborg\n"
     ]
    }
   ],
   "source": [
    "justice_league.sort()\n",
    "new_leader = justice_league[0]\n",
    "print(\"Sorted Justice League \", justice_league)\n",
    "print(\"New leader is :\",new_leader)"
   ]
  },
  {
   "cell_type": "markdown",
   "id": "415aedf7-b527-4e36-b24d-49423f28a4cf",
   "metadata": {},
   "source": [
    "# **4. If Condition**"
   ]
  },
  {
   "cell_type": "markdown",
   "id": "9a112293-9bd9-45b1-8913-d444781a25a7",
   "metadata": {},
   "source": [
    "**1. Write a program to determine the BMI Category based on user input.** <br>\n",
    "Ask the user to :<br>\n",
    "Enter height in meters<br> \n",
    "Enter weight in kilograms<br> \n",
    "Calculate BMI using the formula: BMI = weight / (height)2<br>  \n",
    "Use the following categories:<br>  \n",
    "If BMI is 30 or greater, print Obesity<br>  \n",
    "If BMI is between 25 and 29, print Overweight<br> \n",
    "If BMI is between 18.5 and 25, print Normal<br> \n",
    "If BMI is less than 18.5, print Underweightweight\"**erweight\""
   ]
  },
  {
   "cell_type": "code",
   "execution_count": 14,
   "id": "bad06d30-84b2-4b32-b7b8-6f866c5058ac",
   "metadata": {},
   "outputs": [
    {
     "name": "stdin",
     "output_type": "stream",
     "text": [
      "Enter height in meters :  1.75\n",
      "Enter weight in kilograms :  70\n"
     ]
    },
    {
     "name": "stdout",
     "output_type": "stream",
     "text": [
      "Normal\n"
     ]
    }
   ],
   "source": [
    "height = float(input(\"Enter height in meters : \"))\n",
    "weight = float(input(\"Enter weight in kilograms : \"))\n",
    "BMI = weight / (height)**2\n",
    "\n",
    "if BMI>=30 :\n",
    "  print(\"Obesity\")\n",
    "elif BMI in range (25 , 29) :\n",
    "  print(\"Overweight\")\n",
    "elif BMI>18.5 and BMI<25 :\n",
    "  print(\"Normal\")\n",
    "elif BMI < 18.5 :\n",
    "  print(\"Underweight\")"
   ]
  },
  {
   "cell_type": "markdown",
   "id": "6f637c4f-5ce4-4fc2-8ef9-f483b92dc042",
   "metadata": {},
   "source": [
    "**2. Write a program to determine which country a city belongs to. Given list of cities per country:**\n",
    "\r\n",
    "Australia = [\"Sydney\",\"Melbourne\",\"Brisbane\",\"Perth\"\n",
    "\n",
    "\r\n",
    "UAE = [\"Dubai\",\"Abu Dhabi\",\"Sharjah\",\"Ajma]\n",
    "\n",
    "I\r\n",
    "India = [\"Mumbai\",\"Bangalore\",\"Chennai\",\"Delh\n",
    "\n",
    "\"]\r\n",
    "Ask the user to enter a city name and print the corresponding country."
   ]
  },
  {
   "cell_type": "code",
   "execution_count": 15,
   "id": "13de836a-dbde-4d0f-9c19-7d417bdf93ce",
   "metadata": {},
   "outputs": [
    {
     "name": "stdin",
     "output_type": "stream",
     "text": [
      "Enter a city name:  Abu Dhabi\n"
     ]
    },
    {
     "name": "stdout",
     "output_type": "stream",
     "text": [
      "Abu Dhabi is in UAE\n"
     ]
    }
   ],
   "source": [
    "def findcountry(city):\n",
    "    australia = [\"Sydney\", \"Melbourne\", \"Brisbane\", \"Perth\"]\n",
    "    uae = [\"Dubai\", \"Abu Dhabi\", \"Sharjah\", \"Ajman\"]\n",
    "    india = [\"Mumbai\", \"Bangalore\", \"Chennai\", \"Delhi\"]\n",
    "\n",
    "    if city in australia:\n",
    "        return \"Australia\"\n",
    "    elif city in uae:\n",
    "        return \"UAE\"\n",
    "    elif city in india:\n",
    "        return \"India\"\n",
    "    else:\n",
    "        return \"Unknown\"\n",
    "\n",
    "cityname = input(\"Enter a city name: \")\n",
    "country = findcountry(cityname)\n",
    "\n",
    "if country != \"Unknown\":\n",
    "    print(f\"{cityname} is in {country}\")\n",
    "else:\n",
    "    print(\"City not found in the given list.\")\n"
   ]
  },
  {
   "cell_type": "markdown",
   "id": "e2debd29-07de-4f6f-8557-90db0b8299c7",
   "metadata": {},
   "source": [
    "**3.Write a program to check if two cities belong to the same country. Ask the user to enter two cities and print whether they belong to the same country or not.**\r\n",
    "\r\n"
   ]
  },
  {
   "cell_type": "code",
   "execution_count": 17,
   "id": "56ddbbc2-4040-4765-b78a-cdc1693db8e1",
   "metadata": {},
   "outputs": [
    {
     "name": "stdin",
     "output_type": "stream",
     "text": [
      "Enter the first city:  Mumbai\n",
      "Enter the second city:  Bangalore\n"
     ]
    },
    {
     "name": "stdout",
     "output_type": "stream",
     "text": [
      "Both cities are in India\n"
     ]
    }
   ],
   "source": [
    "def findcountry(city):\n",
    "    australia = [\"Sydney\", \"Melbourne\", \"Brisbane\", \"Perth\"]\n",
    "    uae = [\"Dubai\", \"Abu Dhabi\", \"Sharjah\", \"Ajman\"]\n",
    "    india = [\"Mumbai\", \"Bangalore\", \"Chennai\", \"Delhi\"]\n",
    "\n",
    "    if city in australia:\n",
    "        return \"Australia\"\n",
    "    elif city in uae:\n",
    "        return \"UAE\"\n",
    "    elif city in india:\n",
    "        return \"India\"\n",
    "    else:\n",
    "        return \"Unknown\"\n",
    "\n",
    "def same_country(cit1, cit2):\n",
    "    cont1 = findcountry(cit1)\n",
    "    cont2 = findcountry(cit2)\n",
    "\n",
    "    if cont1 == cont2:\n",
    "        return f\"Both cities are in {cont1}\"\n",
    "    else:\n",
    "        return \"They don't belong to the same country\"\n",
    "\n",
    "fst_city = input(\"Enter the first city: \")\n",
    "sec_city = input(\"Enter the second city: \")\n",
    "\n",
    "result = same_country(fst_city, sec_city)\n",
    "print(result)\n"
   ]
  },
  {
   "cell_type": "markdown",
   "id": "713984d7-7584-4df0-a273-6f869aafe897",
   "metadata": {},
   "source": [
    "# **9. Inheritance**"
   ]
  },
  {
   "cell_type": "markdown",
   "id": "0bca9d01-97fc-4002-bc64-4b4279ef7652",
   "metadata": {},
   "source": [
    "**1.Create inheritance using MobilePhone as base class and Apple & Samsung as child class\r\n",
    "The base class should have properties**:\r\n",
    "1. ScreenType = Touch Screen\r\n",
    "2. NetworkType = 4G\n",
    "5G\r\n",
    "3. DualSim = True or False\r\n",
    "4. FrontCamera = (5MP/8MP/12MP/16MP)\r\n",
    "5. rearCamera = (8MP/12MP/16MP/32MP/48MP)\r\n",
    "6. RAM = (2GB/3GB/4GB)\r\n",
    "7. Storage = (16GB/32GB/64GB)"
   ]
  },
  {
   "cell_type": "code",
   "execution_count": 18,
   "id": "15ae26a4-0e97-42e8-bba1-c5963fcb5298",
   "metadata": {},
   "outputs": [
    {
     "name": "stdout",
     "output_type": "stream",
     "text": [
      "iPhone Specs:\n",
      "Screen Type: Retina Display\n",
      "Network Type: 5G\n",
      "Dual Sim: False\n",
      "Front Camera: 12MP\n",
      "Rear Camera: 32MP\n",
      "RAM: 4GB\n",
      "Storage: 64GB\n",
      "\n",
      "Galaxy Specs:\n",
      "Screen Type: AMOLED\n",
      "Network Type: 5G\n",
      "Dual Sim: True\n",
      "Front Camera: 16MP\n",
      "Rear Camera: 48MP\n",
      "RAM: 6GB\n",
      "Storage: 128GB\n"
     ]
    }
   ],
   "source": [
    "class MobilePhone:\n",
    "    def __init__(self, screen_type=\"Touch Screen\", network_type=\"4G/5G\", dual_sim=False, front_camera=\"5MP\", rear_camera=\"8MP\", ram=\"2GB\", storage=\"16GB\"):\n",
    "        self.screen_type = screen_type\n",
    "        self.network_type = network_type\n",
    "        self.dual_sim = dual_sim\n",
    "        self.front_camera = front_camera\n",
    "        self.rear_camera = rear_camera\n",
    "        self.ram = ram\n",
    "        self.storage = storage\n",
    "\n",
    "class Apple(MobilePhone):\n",
    "    def __init__(self, model, screen_type=\"Retina Display\", network_type=\"5G\", dual_sim=False, front_camera=\"12MP\", rear_camera=\"32MP\", ram=\"4GB\", storage=\"64GB\"):\n",
    "        self.model = model\n",
    "        MobilePhone.__init__(self, screen_type, network_type, dual_sim, front_camera, rear_camera, ram, storage)\n",
    "\n",
    "class Samsung(MobilePhone):\n",
    "    def __init__(self, model, screen_type=\"AMOLED\", network_type=\"5G\", dual_sim=True, front_camera=\"16MP\", rear_camera=\"48MP\", ram=\"6GB\", storage=\"128GB\"):\n",
    "        self.model = model\n",
    "        MobilePhone.__init__(self, screen_type, network_type, dual_sim, front_camera, rear_camera, ram, storage)\n",
    "\n",
    "iphone = Apple(model=\"iPhone 13\")\n",
    "galaxy = Samsung(model=\"Galaxy S21\")\n",
    "\n",
    "print(\"iPhone Specs:\")\n",
    "print(\"Screen Type:\", iphone.screen_type)\n",
    "print(\"Network Type:\", iphone.network_type)\n",
    "print(\"Dual Sim:\", iphone.dual_sim)\n",
    "print(\"Front Camera:\", iphone.front_camera)\n",
    "print(\"Rear Camera:\", iphone.rear_camera)\n",
    "print(\"RAM:\", iphone.ram)\n",
    "print(\"Storage:\", iphone.storage)\n",
    "print()\n",
    "\n",
    "print(\"Galaxy Specs:\")\n",
    "print(\"Screen Type:\", galaxy.screen_type)\n",
    "print(\"Network Type:\", galaxy.network_type)\n",
    "print(\"Dual Sim:\", galaxy.dual_sim)\n",
    "print(\"Front Camera:\", galaxy.front_camera)\n",
    "print(\"Rear Camera:\", galaxy.rear_camera)\n",
    "print(\"RAM:\", galaxy.ram)\n",
    "print(\"Storage:\", galaxy.storage)\n"
   ]
  },
  {
   "cell_type": "markdown",
   "id": "595e4958-75ed-46a2-a738-a7db9331fb0a",
   "metadata": {},
   "source": [
    "**2. Create basic mobile phone functionalities in the classes like: make_call, recieve_call, take_a_picture, etc.**"
   ]
  },
  {
   "cell_type": "code",
   "execution_count": 19,
   "id": "ed23d8b3-c844-443d-b00b-e2df5f278ac1",
   "metadata": {},
   "outputs": [
    {
     "name": "stdout",
     "output_type": "stream",
     "text": [
      "iPhone Specs:\n",
      "Screen Type: Retina Display\n",
      "Network Type: 5G\n",
      "Dual Sim: False\n",
      "Front Camera: 12MP\n",
      "Rear Camera: 32MP\n",
      "RAM: 4GB\n",
      "Storage: 64GB\n",
      "Model: iPhone 13\n",
      "\n",
      "Galaxy Specs:\n",
      "Screen Type: AMOLED\n",
      "Network Type: 5G\n",
      "Dual Sim: True\n",
      "Front Camera: 16MP\n",
      "Rear Camera: 48MP\n",
      "RAM: 6GB\n",
      "Storage: 128GB\n",
      "Model: Galaxy S21\n",
      "\n",
      "Calling 1234567890...\n",
      "Call from John is received.\n",
      "Picture taken!\n",
      "\n",
      "Calling 0987654321...\n",
      "Call from Saima is received.\n",
      "Picture taken!\n"
     ]
    }
   ],
   "source": [
    "class MobilePhone:\n",
    "    def __init__(self, screen_type=\"Touch Screen\", network_type=\"4G/5G\", dual_sim=False, front_camera=\"5MP\", rear_camera=\"8MP\", ram=\"2GB\", storage=\"16GB\"):\n",
    "        self.screen_type = screen_type\n",
    "        self.network_type = network_type\n",
    "        self.dual_sim = dual_sim\n",
    "        self.front_camera = front_camera\n",
    "        self.rear_camera = rear_camera\n",
    "        self.ram = ram\n",
    "        self.storage = storage\n",
    "\n",
    "    def make_call(self, number):\n",
    "        print(f\"Calling {number}...\")\n",
    "\n",
    "    def receive_call(self, caller):\n",
    "        print(f\"Call from {caller} is received.\")\n",
    "\n",
    "    def take_a_picture(self):\n",
    "        print(\"Picture taken!\")\n",
    "\n",
    "\n",
    "class Apple(MobilePhone):\n",
    "    def __init__(self, model, screen_type=\"Retina Display\", network_type=\"5G\", dual_sim=False, front_camera=\"12MP\", rear_camera=\"32MP\", ram=\"4GB\", storage=\"64GB\"):\n",
    "        self.model = model\n",
    "        MobilePhone.__init__(self, screen_type, network_type, dual_sim, front_camera, rear_camera, ram, storage)\n",
    "\n",
    "\n",
    "class Samsung(MobilePhone):\n",
    "    def __init__(self, model, screen_type=\"AMOLED\", network_type=\"5G\", dual_sim=True, front_camera=\"16MP\", rear_camera=\"48MP\", ram=\"6GB\", storage=\"128GB\"):\n",
    "        self.model = model\n",
    "        MobilePhone.__init__(self, screen_type, network_type, dual_sim, front_camera, rear_camera, ram, storage)\n",
    "\n",
    "\n",
    "\n",
    "iphone = Apple(model=\"iPhone 13\")\n",
    "galaxy = Samsung(model=\"Galaxy S21\")\n",
    "\n",
    "\n",
    "print(\"iPhone Specs:\")\n",
    "print(\"Screen Type:\", iphone.screen_type)\n",
    "print(\"Network Type:\", iphone.network_type)\n",
    "print(\"Dual Sim:\", iphone.dual_sim)\n",
    "print(\"Front Camera:\", iphone.front_camera)\n",
    "print(\"Rear Camera:\", iphone.rear_camera)\n",
    "print(\"RAM:\", iphone.ram)\n",
    "print(\"Storage:\", iphone.storage)\n",
    "print(\"Model:\", iphone.model)\n",
    "print()\n",
    "\n",
    "print(\"Galaxy Specs:\")\n",
    "print(\"Screen Type:\", galaxy.screen_type)\n",
    "print(\"Network Type:\", galaxy.network_type)\n",
    "print(\"Dual Sim:\", galaxy.dual_sim)\n",
    "print(\"Front Camera:\", galaxy.front_camera)\n",
    "print(\"Rear Camera:\", galaxy.rear_camera)\n",
    "print(\"RAM:\", galaxy.ram)\n",
    "print(\"Storage:\", galaxy.storage)\n",
    "print(\"Model:\", galaxy.model)\n",
    "print()\n",
    "\n",
    "iphone.make_call(\"1234567890\")\n",
    "iphone.receive_call(\"John\")\n",
    "iphone.take_a_picture()\n",
    "\n",
    "print()\n",
    "\n",
    "galaxy.make_call(\"0987654321\")\n",
    "galaxy.receive_call(\"Saima\")\n",
    "galaxy.take_a_picture()\n"
   ]
  },
  {
   "cell_type": "markdown",
   "id": "f761a279-7c76-4cf2-976d-19f837615de2",
   "metadata": {},
   "source": [
    "**3. Use super() constructor for calling parent class’s constructor**"
   ]
  },
  {
   "cell_type": "code",
   "execution_count": 20,
   "id": "159c81ce-bc0b-448d-a9d2-9b65bd69043c",
   "metadata": {},
   "outputs": [
    {
     "name": "stdout",
     "output_type": "stream",
     "text": [
      "iPhone Specs:\n",
      "Screen Type: Retina Display\n",
      "Network Type: 5G\n",
      "Dual Sim: False\n",
      "Front Camera: 12MP\n",
      "Rear Camera: 32MP\n",
      "RAM: 4GB\n",
      "Storage: 64GB\n",
      "Model: iPhone 13\n",
      "\n",
      "Galaxy Specs:\n",
      "Screen Type: AMOLED\n",
      "Network Type: 5G\n",
      "Dual Sim: True\n",
      "Front Camera: 16MP\n",
      "Rear Camera: 48MP\n",
      "RAM: 6GB\n",
      "Storage: 128GB\n",
      "Model: Galaxy S21\n",
      "\n",
      "Calling 1234567890...\n",
      "Call from Saima is received.\n",
      "Picture taken!\n",
      "\n",
      "Calling 0987654321...\n",
      "Call from Yasmeen is received.\n",
      "Picture taken!\n"
     ]
    }
   ],
   "source": [
    "class MobilePhone:\n",
    "    def __init__(self, screen_type=\"Touch Screen\", network_type=\"4G/5G\", dual_sim=False, front_camera=\"5MP\", rear_camera=\"8MP\", ram=\"2GB\", storage=\"16GB\"):\n",
    "        self.screen_type = screen_type\n",
    "        self.network_type = network_type\n",
    "        self.dual_sim = dual_sim\n",
    "        self.front_camera = front_camera\n",
    "        self.rear_camera = rear_camera\n",
    "        self.ram = ram\n",
    "        self.storage = storage\n",
    "\n",
    "    def make_call(self, number):\n",
    "        print(f\"Calling {number}...\")\n",
    "\n",
    "    def receive_call(self, caller):\n",
    "        print(f\"Call from {caller} is received.\")\n",
    "\n",
    "    def take_a_picture(self):\n",
    "        print(\"Picture taken!\")\n",
    "\n",
    "\n",
    "class Apple(MobilePhone):\n",
    "    def __init__(self, model, screen_type=\"Retina Display\", network_type=\"5G\", dual_sim=False, front_camera=\"12MP\", rear_camera=\"32MP\", ram=\"4GB\", storage=\"64GB\"):\n",
    "        self.model = model\n",
    "        super().__init__(screen_type, network_type, dual_sim, front_camera, rear_camera, ram, storage)\n",
    "\n",
    "class Samsung(MobilePhone):\n",
    "    def __init__(self, model, screen_type=\"AMOLED\", network_type=\"5G\", dual_sim=True, front_camera=\"16MP\", rear_camera=\"48MP\", ram=\"6GB\", storage=\"128GB\"):\n",
    "        self.model = model\n",
    "        super().__init__(screen_type, network_type, dual_sim, front_camera, rear_camera, ram, storage)\n",
    "\n",
    "\n",
    "iphone = Apple(model=\"iPhone 13\")\n",
    "galaxy = Samsung(model=\"Galaxy S21\")\n",
    "\n",
    "print(\"iPhone Specs:\")\n",
    "print(\"Screen Type:\", iphone.screen_type)\n",
    "print(\"Network Type:\", iphone.network_type)\n",
    "print(\"Dual Sim:\", iphone.dual_sim)\n",
    "print(\"Front Camera:\", iphone.front_camera)\n",
    "print(\"Rear Camera:\", iphone.rear_camera)\n",
    "print(\"RAM:\", iphone.ram)\n",
    "print(\"Storage:\", iphone.storage)\n",
    "print(\"Model:\", iphone.model)\n",
    "print()\n",
    "\n",
    "print(\"Galaxy Specs:\")\n",
    "print(\"Screen Type:\", galaxy.screen_type)\n",
    "print(\"Network Type:\", galaxy.network_type)\n",
    "print(\"Dual Sim:\", galaxy.dual_sim)\n",
    "print(\"Front Camera:\", galaxy.front_camera)\n",
    "print(\"Rear Camera:\", galaxy.rear_camera)\n",
    "print(\"RAM:\", galaxy.ram)\n",
    "print(\"Storage:\", galaxy.storage)\n",
    "print(\"Model:\", galaxy.model)\n",
    "print()\n",
    "\n",
    "\n",
    "iphone.make_call(\"1234567890\")\n",
    "iphone.receive_call(\"Saima\")\n",
    "iphone.take_a_picture()\n",
    "\n",
    "print()\n",
    "\n",
    "galaxy.make_call(\"0987654321\")\n",
    "galaxy.receive_call(\"Yasmeen\")\n",
    "galaxy.take_a_picture()\n"
   ]
  },
  {
   "cell_type": "markdown",
   "id": "7a15cc19-8992-432a-904d-7bcf5518ce47",
   "metadata": {},
   "source": [
    "**4. Make some objects of Apple class with different properties**"
   ]
  },
  {
   "cell_type": "code",
   "execution_count": 21,
   "id": "af2a8367-befb-4e9b-8f43-0df9aae340ef",
   "metadata": {},
   "outputs": [
    {
     "name": "stdout",
     "output_type": "stream",
     "text": [
      "iPhone 12 Specs:\n",
      "Model: iPhone 12\n",
      "Screen Type: LCD\n",
      "Front Camera: 8MP\n",
      "Rear Camera: 16MP\n",
      "RAM: 3GB\n",
      "Storage: 128GB\n",
      "\n",
      "iPhone 11 Specs:\n",
      "Model: iPhone 11\n",
      "Screen Type: Retina Display\n",
      "Front Camera: 7MP\n",
      "Rear Camera: 12MP\n",
      "RAM: 4GB\n",
      "Storage: 256GB\n",
      "\n",
      "Calling 1234567890...\n",
      "Call from Saima is received.\n",
      "Picture taken!\n",
      "\n",
      "Calling 0987654321...\n",
      "Call from Yasmeen is received.\n",
      "Picture taken!\n"
     ]
    }
   ],
   "source": [
    "class MobilePhone:\n",
    "    def __init__(self, screen_type=\"Touch Screen\", network_type=\"4G/5G\", dual_sim=False, front_camera=\"5MP\", rear_camera=\"8MP\", ram=\"2GB\", storage=\"16GB\"):\n",
    "        self.screen_type = screen_type\n",
    "        self.network_type = network_type\n",
    "        self.dual_sim = dual_sim\n",
    "        self.front_camera = front_camera\n",
    "        self.rear_camera = rear_camera\n",
    "        self.ram = ram\n",
    "        self.storage = storage\n",
    "\n",
    "    def make_call(self, number):\n",
    "        print(f\"Calling {number}...\")\n",
    "\n",
    "    def receive_call(self, caller):\n",
    "        print(f\"Call from {caller} is received.\")\n",
    "\n",
    "    def take_a_picture(self):\n",
    "        print(\"Picture taken!\")\n",
    "\n",
    "\n",
    "class Apple(MobilePhone):\n",
    "    def __init__(self, model, screen_type=\"Retina Display\", network_type=\"5G\", dual_sim=False, front_camera=\"12MP\", rear_camera=\"32MP\", ram=\"4GB\", storage=\"64GB\"):\n",
    "        self.model = model\n",
    "        super().__init__(screen_type, network_type, dual_sim, front_camera, rear_camera, ram, storage)\n",
    "\n",
    "\n",
    "iphone_12 = Apple(model=\"iPhone 12\", screen_type=\"LCD\", front_camera=\"8MP\", rear_camera=\"16MP\", ram=\"3GB\", storage=\"128GB\")\n",
    "iphone_11 = Apple(model=\"iPhone 11\", front_camera=\"7MP\", rear_camera=\"12MP\", ram=\"4GB\", storage=\"256GB\")\n",
    "\n",
    "print(\"iPhone 12 Specs:\")\n",
    "print(\"Model:\", iphone_12.model)\n",
    "print(\"Screen Type:\", iphone_12.screen_type)\n",
    "print(\"Front Camera:\", iphone_12.front_camera)\n",
    "print(\"Rear Camera:\", iphone_12.rear_camera)\n",
    "print(\"RAM:\", iphone_12.ram)\n",
    "print(\"Storage:\", iphone_12.storage)\n",
    "print()\n",
    "\n",
    "print(\"iPhone 11 Specs:\")\n",
    "print(\"Model:\", iphone_11.model)\n",
    "print(\"Screen Type:\", iphone_11.screen_type)\n",
    "print(\"Front Camera:\", iphone_11.front_camera)\n",
    "print(\"Rear Camera:\", iphone_11.rear_camera)\n",
    "print(\"RAM:\", iphone_11.ram)\n",
    "print(\"Storage:\", iphone_11.storage)\n",
    "print()\n",
    "\n",
    "iphone_12.make_call(\"1234567890\")\n",
    "iphone_12.receive_call(\"Saima\")\n",
    "iphone_12.take_a_picture()\n",
    "\n",
    "print()\n",
    "\n",
    "iphone_11.make_call(\"0987654321\")\n",
    "iphone_11.receive_call(\"Yasmeen\")\n",
    "iphone_11.take_a_picture()\n"
   ]
  },
  {
   "cell_type": "markdown",
   "id": "0d27e7ac-a3b8-43ba-bbed-f3eaf645e80c",
   "metadata": {},
   "source": [
    "**5. Make some objects of Samsung class with different properties**"
   ]
  },
  {
   "cell_type": "code",
   "execution_count": 23,
   "id": "4d3f2eb0-8910-44c1-b369-04c92b70a38e",
   "metadata": {},
   "outputs": [
    {
     "name": "stdout",
     "output_type": "stream",
     "text": [
      "Galaxy S20 Specs:\n",
      "Model: Galaxy S20\n",
      "Screen Type: Super AMOLED\n",
      "Front Camera: 16MP\n",
      "Rear Camera: 64MP\n",
      "RAM: 8GB\n",
      "Storage: 256GB\n",
      "\n",
      "Galaxy A72 Specs:\n",
      "Model: Galaxy A72\n",
      "Screen Type: AMOLED\n",
      "Front Camera: 32MP\n",
      "Rear Camera: 64MP\n",
      "RAM: 6GB\n",
      "Storage: 128GB\n",
      "\n",
      "Calling 1234567890...\n",
      "Call from Saima is received.\n",
      "Picture taken!\n",
      "\n",
      "Calling 0987654321...\n",
      "Call from Yasmeen is received.\n",
      "Picture taken!\n"
     ]
    }
   ],
   "source": [
    "class MobilePhone:\n",
    "    def __init__(self, screen_type=\"Touch Screen\", network_type=\"4G/5G\", dual_sim=False, front_camera=\"5MP\", rear_camera=\"8MP\", ram=\"2GB\", storage=\"16GB\"):\n",
    "        self.screen_type = screen_type\n",
    "        self.network_type = network_type\n",
    "        self.dual_sim = dual_sim\n",
    "        self.front_camera = front_camera\n",
    "        self.rear_camera = rear_camera\n",
    "        self.ram = ram\n",
    "        self.storage = storage\n",
    "\n",
    "    def make_call(self, number):\n",
    "        print(f\"Calling {number}...\")\n",
    "\n",
    "    def receive_call(self, caller):\n",
    "        print(f\"Call from {caller} is received.\")\n",
    "\n",
    "    def take_a_picture(self):\n",
    "        print(\"Picture taken!\")\n",
    "\n",
    "\n",
    "class Samsung(MobilePhone):\n",
    "    def __init__(self, model, screen_type=\"AMOLED\", network_type=\"5G\", dual_sim=True, front_camera=\"16MP\", rear_camera=\"48MP\", ram=\"6GB\", storage=\"128GB\"):\n",
    "        self.model = model\n",
    "        super().__init__(screen_type, network_type, dual_sim, front_camera, rear_camera, ram, storage)\n",
    "\n",
    "galaxy_s20 = Samsung(model=\"Galaxy S20\", screen_type=\"Super AMOLED\", rear_camera=\"64MP\", ram=\"8GB\", storage=\"256GB\")\n",
    "galaxy_a72 = Samsung(model=\"Galaxy A72\", front_camera=\"32MP\", rear_camera=\"64MP\", ram=\"6GB\", storage=\"128GB\")\n",
    "\n",
    "print(\"Galaxy S20 Specs:\")\n",
    "print(\"Model:\", galaxy_s20.model)\n",
    "print(\"Screen Type:\", galaxy_s20.screen_type)\n",
    "print(\"Front Camera:\", galaxy_s20.front_camera)\n",
    "print(\"Rear Camera:\", galaxy_s20.rear_camera)\n",
    "print(\"RAM:\", galaxy_s20.ram)\n",
    "print(\"Storage:\", galaxy_s20.storage)\n",
    "print()\n",
    "\n",
    "print(\"Galaxy A72 Specs:\")\n",
    "print(\"Model:\", galaxy_a72.model)\n",
    "print(\"Screen Type:\", galaxy_a72.screen_type)\n",
    "print(\"Front Camera:\", galaxy_a72.front_camera)\n",
    "print(\"Rear Camera:\", galaxy_a72.rear_camera)\n",
    "print(\"RAM:\", galaxy_a72.ram)\n",
    "print(\"Storage:\", galaxy_a72.storage)\n",
    "print()\n",
    "\n",
    "galaxy_s20.make_call(\"1234567890\")\n",
    "galaxy_s20.receive_call(\"Saima\")\n",
    "galaxy_s20.take_a_picture()\n",
    "\n",
    "print()\n",
    "\n",
    "galaxy_a72.make_call(\"0987654321\")\n",
    "galaxy_a72.receive_call(\"Yasmeen\")\n",
    "galaxy_a72.take_a_picture()\n"
   ]
  },
  {
   "cell_type": "code",
   "execution_count": null,
   "id": "9e158679-80a9-487b-9a9b-5cc40fcb57d9",
   "metadata": {},
   "outputs": [],
   "source": []
  }
 ],
 "metadata": {
  "kernelspec": {
   "display_name": "Python 3 (ipykernel)",
   "language": "python",
   "name": "python3"
  },
  "language_info": {
   "codemirror_mode": {
    "name": "ipython",
    "version": 3
   },
   "file_extension": ".py",
   "mimetype": "text/x-python",
   "name": "python",
   "nbconvert_exporter": "python",
   "pygments_lexer": "ipython3",
   "version": "3.11.7"
  }
 },
 "nbformat": 4,
 "nbformat_minor": 5
}

